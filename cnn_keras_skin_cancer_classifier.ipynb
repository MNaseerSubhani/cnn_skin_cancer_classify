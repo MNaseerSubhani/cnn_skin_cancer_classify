{
  "nbformat": 4,
  "nbformat_minor": 0,
  "metadata": {
    "colab": {
      "name": "cnn_keras_.ipynb",
      "version": "0.3.2",
      "views": {},
      "default_view": {},
      "provenance": [],
      "collapsed_sections": []
    },
    "kernelspec": {
      "name": "python3",
      "display_name": "Python 3"
    }
  },
  "cells": [
    {
      "metadata": {
        "id": "bh8cjJVYjU4Q",
        "colab_type": "text"
      },
      "cell_type": "markdown",
      "source": [
        "Load all the libraries "
      ]
    },
    {
      "metadata": {
        "id": "FABx2jmjqAU1",
        "colab_type": "code",
        "colab": {
          "autoexec": {
            "startup": false,
            "wait_interval": 0
          },
          "base_uri": "https://localhost:8080/",
          "height": 102
        },
        "outputId": "57b50f49-eb45-4ff6-a641-d005084a89f9",
        "executionInfo": {
          "status": "ok",
          "timestamp": 1525379360541,
          "user_tz": -300,
          "elapsed": 9749,
          "user": {
            "displayName": "Muhammad Naseer Subhani",
            "photoUrl": "https://lh3.googleusercontent.com/a/default-user=s128",
            "userId": "106670584265166839639"
          }
        }
      },
      "cell_type": "code",
      "source": [
        "!pip install imageio\n",
        "import scipy.misc\n",
        "import random\n",
        "import imageio\n",
        "from keras.utils import to_categorical\n",
        "import tensorflow as tf\n",
        "from tensorflow.python.tools import freeze_graph\n",
        "from tensorflow.python.tools import optimize_for_inference_lib\n",
        "from keras.applications.inception_v3 import InceptionV3\n",
        "\n",
        "from sklearn.preprocessing import StandardScaler\n",
        "from sklearn.decomposition import PCA\n",
        "import numpy as np\n",
        "import matplotlib.pyplot as plt\n",
        "\n",
        "from sklearn.utils import shuffle\n",
        "from sklearn.model_selection import train_test_split\n",
        "\n",
        "from keras import backend as K\n",
        "import keras.optimizers as optimizers\n",
        "from keras.utils import np_utils\n",
        "from keras.models import Sequential\n",
        "from keras.layers.core import Dense, Dropout, Activation, Flatten\n",
        "from keras.models import load_model\n",
        "from keras.layers import Lambda, Conv2D, MaxPooling2D, Dropout, Dense, Flatten, Activation, BatchNormalization\n",
        "from keras.optimizers import SGD,RMSprop,adam"
      ],
      "execution_count": 0,
      "outputs": [
        {
          "output_type": "stream",
          "text": [
            "Requirement already satisfied: imageio in /usr/local/lib/python3.6/dist-packages (2.3.0)\r\n",
            "Requirement already satisfied: numpy in /usr/local/lib/python3.6/dist-packages (from imageio) (1.14.3)\r\n",
            "Requirement already satisfied: pillow in /usr/local/lib/python3.6/dist-packages (from imageio) (4.0.0)\r\n",
            "Requirement already satisfied: olefile in /usr/local/lib/python3.6/dist-packages (from pillow->imageio) (0.45.1)\r\n"
          ],
          "name": "stdout"
        },
        {
          "output_type": "stream",
          "text": [
            "Using TensorFlow backend.\n"
          ],
          "name": "stderr"
        }
      ]
    },
    {
      "metadata": {
        "id": "khvkSZkrjf6_",
        "colab_type": "text"
      },
      "cell_type": "markdown",
      "source": [
        "#Load Dataset "
      ]
    },
    {
      "metadata": {
        "id": "kUczli1kjkT3",
        "colab_type": "text"
      },
      "cell_type": "markdown",
      "source": [
        "We have two types of dataset one is for malenoma skin cancer and other is non melanoma. melanoma skin cancer data is in \"\"dataser_1\" and non melanoma is in \"\"dataset_0\" respectively."
      ]
    },
    {
      "metadata": {
        "id": "NJm4xc3OqGp-",
        "colab_type": "code",
        "colab": {
          "autoexec": {
            "startup": false,
            "wait_interval": 0
          }
        }
      },
      "cell_type": "code",
      "source": [
        "xs = []\n",
        "ys = []\n",
        "def Load_data_1():\n",
        "    path =\"dataset_1/\"\n",
        "    x_out = []\n",
        "    y_out = []\n",
        "    for i in range(0, 1000):\n",
        "        img = imageio.imread(path+str((i))+\".jpg\")\n",
        "    \n",
        "        \n",
        "        lab = 1 \n",
        "        x_out.append(img)\n",
        "        y_out.append(lab)\n",
        "    return x_out, y_out\n",
        "\n",
        "def Load_data_0():\n",
        "    path =\"dataset_0/\"\n",
        "    x_out = []\n",
        "    y_out = []\n",
        "    for i in range(0, 1000):\n",
        "        img = imageio.imread(path+str((i))+\".jpg\")\n",
        "        \n",
        "        \n",
        "        lab = 0 \n",
        "        x_out.append(img)\n",
        "        y_out.append(lab)\n",
        "    return x_out, y_out\n",
        "  "
      ],
      "execution_count": 0,
      "outputs": []
    },
    {
      "metadata": {
        "id": "l53fBVgzkFgY",
        "colab_type": "text"
      },
      "cell_type": "markdown",
      "source": [
        "call function to load dataset  in variable y  \"\"1\" says its  melanoma and \"\"0\" stated as non malenoma."
      ]
    },
    {
      "metadata": {
        "id": "FI58vxF0qBn-",
        "colab_type": "code",
        "colab": {
          "autoexec": {
            "startup": false,
            "wait_interval": 0
          }
        }
      },
      "cell_type": "code",
      "source": [
        "\n",
        "x_0, y_0 = Load_data_0()\n",
        "x_1, y_1 = Load_data_1()"
      ],
      "execution_count": 0,
      "outputs": []
    },
    {
      "metadata": {
        "id": "fOjnIJerkZth",
        "colab_type": "text"
      },
      "cell_type": "markdown",
      "source": [
        "convert list in to array of numpy"
      ]
    },
    {
      "metadata": {
        "id": "GZ1Vg_geql0x",
        "colab_type": "code",
        "colab": {
          "autoexec": {
            "startup": false,
            "wait_interval": 0
          }
        }
      },
      "cell_type": "code",
      "source": [
        "num_classes = 2\n",
        "x_0 = np.array(x_0)\n",
        "y_0 = np.array(y_0)\n",
        "\n",
        "x_1 = np.array(x_1)\n",
        "y_1 = np.array(y_1)\n",
        "\n"
      ],
      "execution_count": 0,
      "outputs": []
    },
    {
      "metadata": {
        "id": "LVgZRz4MkfBd",
        "colab_type": "text"
      },
      "cell_type": "markdown",
      "source": [
        "cancatenate both x and y of melanoma and non melanoma classes.\n",
        "\n",
        "and convert labels in to one hot encoding."
      ]
    },
    {
      "metadata": {
        "id": "bHW0hUHRrQr3",
        "colab_type": "code",
        "colab": {
          "autoexec": {
            "startup": false,
            "wait_interval": 0
          }
        }
      },
      "cell_type": "code",
      "source": [
        "x=np.concatenate((x_0, x_1), axis=0)\n",
        "y=np.concatenate((y_0, y_1), axis=0)\n",
        "\n",
        "y = np_utils.to_categorical(y, num_classes)"
      ],
      "execution_count": 0,
      "outputs": []
    },
    {
      "metadata": {
        "id": "0hPBSeORkx8u",
        "colab_type": "text"
      },
      "cell_type": "markdown",
      "source": [
        "split train and test data and shuffle the data ."
      ]
    },
    {
      "metadata": {
        "id": "uy3aNgg-rl9E",
        "colab_type": "code",
        "colab": {
          "autoexec": {
            "startup": false,
            "wait_interval": 0
          }
        }
      },
      "cell_type": "code",
      "source": [
        "x_train, x_Test, y_train, y_Test = train_test_split(\n",
        " x, y, test_size=0.2, random_state=5)"
      ],
      "execution_count": 0,
      "outputs": []
    },
    {
      "metadata": {
        "id": "SVvniPz8k5KS",
        "colab_type": "text"
      },
      "cell_type": "markdown",
      "source": [
        "#Model "
      ]
    },
    {
      "metadata": {
        "id": "cZTbKPbQlDLU",
        "colab_type": "text"
      },
      "cell_type": "markdown",
      "source": [
        "input shape of this model is 300 X 300 X 3   and out put is 2X1  for binary classes"
      ]
    },
    {
      "metadata": {
        "id": "Gr7V4QFLsKdA",
        "colab_type": "code",
        "colab": {
          "autoexec": {
            "startup": false,
            "wait_interval": 0
          }
        }
      },
      "cell_type": "code",
      "source": [
        "nClasses = 2\n",
        "\n",
        "def createModel():\n",
        "    model = Sequential()\n",
        "    model.add(Conv2D(36, (3, 3), padding='valid', activation='relu', input_shape=(300,300,3)))\n",
        "    model.add(BatchNormalization())\n",
        "    \n",
        "    \n",
        "    model.add(Conv2D(36, (3, 3), padding='same',activation='relu'))\n",
        "    model.add(BatchNormalization())\n",
        "    model.add(MaxPooling2D(pool_size=(2, 2)))\n",
        "#     model.add(Dropout(0.3))\n",
        " \n",
        "    model.add(Conv2D(36, (3, 3), padding='same',activation='relu'))\n",
        "    model.add(BatchNormalization())\n",
        "    model.add(MaxPooling2D(pool_size=(2, 2)))\n",
        "#     model.add(Dropout(0.3))\n",
        "    \n",
        "   \n",
        "    model.add(Conv2D(36, (3, 3), padding='same',activation='relu'))\n",
        "    model.add(BatchNormalization())\n",
        "    model.add(MaxPooling2D(pool_size=(2, 2)))\n",
        "#     model.add(Dropout(0.3))\n",
        "    \n",
        "    model.add(Conv2D(36, (3, 3), padding='same',activation='relu'))\n",
        "    model.add(BatchNormalization())\n",
        "    model.add(MaxPooling2D(pool_size=(2, 2)))\n",
        "#     model.add(Dropout(0.3))\n",
        "    \n",
        "   \n",
        "\n",
        "    model.add(Conv2D(15, (3, 3), padding='valid', activation='relu'))\n",
        "    model.add(BatchNormalization())\n",
        "    model.add(Conv2D(15, (3, 3), padding='valid',activation='relu'))\n",
        "    model.add(BatchNormalization())\n",
        "    model.add(MaxPooling2D(pool_size=(2, 2)))\n",
        "#     model.add(Dropout(0.3))\n",
        "    \n",
        "   \n",
        " \n",
        " \n",
        "    model.add(Flatten())\n",
        "    model.add(Dense(100, activation='relu'))\n",
        "#     model.add(Dropout(0.3))\n",
        "    model.add(Dense(100, activation='relu'))\n",
        "#     model.add(Dropout(0.3))\n",
        "    model.add(Dense(100, activation='relu'))\n",
        "#     model.add(Dropout(0.3))\n",
        "    model.add(Dense(nClasses, activation='softmax'))\n",
        "    model.summary()\n",
        "     \n",
        "    return model"
      ],
      "execution_count": 0,
      "outputs": []
    },
    {
      "metadata": {
        "id": "7K4qHfLjlwtj",
        "colab_type": "text"
      },
      "cell_type": "markdown",
      "source": [
        "#Train the Model"
      ]
    },
    {
      "metadata": {
        "id": "oJVqQMqWsOF9",
        "colab_type": "code",
        "colab": {
          "autoexec": {
            "startup": false,
            "wait_interval": 0
          },
          "base_uri": "https://localhost:8080/",
          "height": 952
        },
        "outputId": "b8d95fff-7c5d-492b-a6ca-13987522c1a0",
        "executionInfo": {
          "status": "ok",
          "timestamp": 1525379377370,
          "user_tz": -300,
          "elapsed": 2391,
          "user": {
            "displayName": "Muhammad Naseer Subhani",
            "photoUrl": "https://lh3.googleusercontent.com/a/default-user=s128",
            "userId": "106670584265166839639"
          }
        }
      },
      "cell_type": "code",
      "source": [
        "model1 = None\n",
        "model1 = createModel()\n",
        "batch_size = 40\n",
        "epochs = 50\n",
        "opt = optimizers.Adam(lr=0.001, beta_1=0.9, beta_2=0.99, epsilon=None, decay=0)\n",
        "model1.compile(loss='binary_crossentropy', \n",
        "              optimizer=opt,\n",
        "              metrics = ['categorical_accuracy']) \n"
      ],
      "execution_count": 0,
      "outputs": [
        {
          "output_type": "stream",
          "text": [
            "_________________________________________________________________\n",
            "Layer (type)                 Output Shape              Param #   \n",
            "=================================================================\n",
            "conv2d_1 (Conv2D)            (None, 298, 298, 36)      1008      \n",
            "_________________________________________________________________\n",
            "batch_normalization_1 (Batch (None, 298, 298, 36)      144       \n",
            "_________________________________________________________________\n",
            "conv2d_2 (Conv2D)            (None, 298, 298, 36)      11700     \n",
            "_________________________________________________________________\n",
            "batch_normalization_2 (Batch (None, 298, 298, 36)      144       \n",
            "_________________________________________________________________\n",
            "max_pooling2d_1 (MaxPooling2 (None, 149, 149, 36)      0         \n",
            "_________________________________________________________________\n",
            "conv2d_3 (Conv2D)            (None, 149, 149, 36)      11700     \n",
            "_________________________________________________________________\n",
            "batch_normalization_3 (Batch (None, 149, 149, 36)      144       \n",
            "_________________________________________________________________\n",
            "max_pooling2d_2 (MaxPooling2 (None, 74, 74, 36)        0         \n",
            "_________________________________________________________________\n",
            "conv2d_4 (Conv2D)            (None, 74, 74, 36)        11700     \n",
            "_________________________________________________________________\n",
            "batch_normalization_4 (Batch (None, 74, 74, 36)        144       \n",
            "_________________________________________________________________\n",
            "max_pooling2d_3 (MaxPooling2 (None, 37, 37, 36)        0         \n",
            "_________________________________________________________________\n",
            "conv2d_5 (Conv2D)            (None, 37, 37, 36)        11700     \n",
            "_________________________________________________________________\n",
            "batch_normalization_5 (Batch (None, 37, 37, 36)        144       \n",
            "_________________________________________________________________\n",
            "max_pooling2d_4 (MaxPooling2 (None, 18, 18, 36)        0         \n",
            "_________________________________________________________________\n",
            "conv2d_6 (Conv2D)            (None, 16, 16, 15)        4875      \n",
            "_________________________________________________________________\n",
            "batch_normalization_6 (Batch (None, 16, 16, 15)        60        \n",
            "_________________________________________________________________\n",
            "conv2d_7 (Conv2D)            (None, 14, 14, 15)        2040      \n",
            "_________________________________________________________________\n",
            "batch_normalization_7 (Batch (None, 14, 14, 15)        60        \n",
            "_________________________________________________________________\n",
            "max_pooling2d_5 (MaxPooling2 (None, 7, 7, 15)          0         \n",
            "_________________________________________________________________\n",
            "flatten_1 (Flatten)          (None, 735)               0         \n",
            "_________________________________________________________________\n",
            "dense_1 (Dense)              (None, 100)               73600     \n",
            "_________________________________________________________________\n",
            "dense_2 (Dense)              (None, 100)               10100     \n",
            "_________________________________________________________________\n",
            "dense_3 (Dense)              (None, 100)               10100     \n",
            "_________________________________________________________________\n",
            "dense_4 (Dense)              (None, 2)                 202       \n",
            "=================================================================\n",
            "Total params: 149,565\n",
            "Trainable params: 149,145\n",
            "Non-trainable params: 420\n",
            "_________________________________________________________________\n"
          ],
          "name": "stdout"
        }
      ]
    },
    {
      "metadata": {
        "id": "tvIqHOSOsRKn",
        "colab_type": "code",
        "colab": {
          "autoexec": {
            "startup": false,
            "wait_interval": 0
          },
          "base_uri": "https://localhost:8080/",
          "height": 1091
        },
        "outputId": "f5bab01a-59d9-4cd7-d7ab-46aca189dd43",
        "executionInfo": {
          "status": "ok",
          "timestamp": 1525380428146,
          "user_tz": -300,
          "elapsed": 1041460,
          "user": {
            "displayName": "Muhammad Naseer Subhani",
            "photoUrl": "https://lh3.googleusercontent.com/a/default-user=s128",
            "userId": "106670584265166839639"
          }
        }
      },
      "cell_type": "code",
      "source": [
        "model1.fit(x_train, y_train, epochs=30,batch_size = batch_size,validation_data= (x_Test, y_Test), shuffle=True)"
      ],
      "execution_count": 0,
      "outputs": [
        {
          "output_type": "stream",
          "text": [
            "Train on 1600 samples, validate on 400 samples\n",
            "Epoch 1/30\n",
            "1600/1600 [==============================] - 39s 25ms/step - loss: 0.4305 - categorical_accuracy: 0.8194 - val_loss: 0.6442 - val_categorical_accuracy: 0.8000\n",
            "Epoch 2/30\n",
            "1600/1600 [==============================] - 34s 22ms/step - loss: 0.3185 - categorical_accuracy: 0.8663 - val_loss: 0.3727 - val_categorical_accuracy: 0.8500\n",
            "Epoch 3/30\n",
            "1600/1600 [==============================] - 34s 22ms/step - loss: 0.2921 - categorical_accuracy: 0.8781 - val_loss: 0.4590 - val_categorical_accuracy: 0.7975\n",
            "Epoch 4/30\n",
            "1600/1600 [==============================] - 34s 22ms/step - loss: 0.2839 - categorical_accuracy: 0.8819 - val_loss: 0.5650 - val_categorical_accuracy: 0.8100\n",
            "Epoch 5/30\n",
            "1520/1600 [===========================>..] - ETA: 1s - loss: 0.2565 - categorical_accuracy: 0.8928"
          ],
          "name": "stdout"
        },
        {
          "output_type": "stream",
          "text": [
            "1600/1600 [==============================] - 34s 22ms/step - loss: 0.2560 - categorical_accuracy: 0.8950 - val_loss: 0.3903 - val_categorical_accuracy: 0.8375\n",
            "Epoch 6/30\n",
            "1600/1600 [==============================] - 34s 22ms/step - loss: 0.2671 - categorical_accuracy: 0.8944 - val_loss: 0.5755 - val_categorical_accuracy: 0.8125\n",
            "Epoch 7/30\n",
            "1600/1600 [==============================] - 34s 22ms/step - loss: 0.2265 - categorical_accuracy: 0.9056 - val_loss: 0.7058 - val_categorical_accuracy: 0.7950\n",
            "Epoch 8/30\n",
            "1600/1600 [==============================] - 34s 22ms/step - loss: 0.2045 - categorical_accuracy: 0.9100 - val_loss: 0.4166 - val_categorical_accuracy: 0.8450\n",
            "Epoch 9/30\n",
            "1600/1600 [==============================] - 34s 22ms/step - loss: 0.2031 - categorical_accuracy: 0.9238 - val_loss: 0.5790 - val_categorical_accuracy: 0.8425\n",
            "Epoch 10/30\n",
            " 520/1600 [========>.....................] - ETA: 21s - loss: 0.1874 - categorical_accuracy: 0.9135"
          ],
          "name": "stdout"
        },
        {
          "output_type": "stream",
          "text": [
            "1600/1600 [==============================] - 34s 22ms/step - loss: 0.1764 - categorical_accuracy: 0.9250 - val_loss: 0.5239 - val_categorical_accuracy: 0.8450\n",
            "Epoch 11/30\n",
            "1600/1600 [==============================] - 34s 22ms/step - loss: 0.1514 - categorical_accuracy: 0.9444 - val_loss: 2.0887 - val_categorical_accuracy: 0.6825\n",
            "Epoch 12/30\n",
            "1600/1600 [==============================] - 35s 22ms/step - loss: 0.1448 - categorical_accuracy: 0.9425 - val_loss: 0.8967 - val_categorical_accuracy: 0.7275\n",
            "Epoch 13/30\n",
            "1600/1600 [==============================] - 34s 22ms/step - loss: 0.1409 - categorical_accuracy: 0.9463 - val_loss: 0.8017 - val_categorical_accuracy: 0.8250\n",
            "Epoch 14/30\n",
            "1600/1600 [==============================] - 34s 22ms/step - loss: 0.1225 - categorical_accuracy: 0.9631 - val_loss: 5.1530 - val_categorical_accuracy: 0.4825\n",
            "Epoch 15/30\n",
            " 400/1600 [======>.......................] - ETA: 23s - loss: 0.0724 - categorical_accuracy: 0.9800"
          ],
          "name": "stdout"
        },
        {
          "output_type": "stream",
          "text": [
            "1600/1600 [==============================] - 34s 22ms/step - loss: 0.0746 - categorical_accuracy: 0.9775 - val_loss: 2.2020 - val_categorical_accuracy: 0.5850\n",
            "Epoch 16/30\n",
            "1600/1600 [==============================] - 34s 22ms/step - loss: 0.1028 - categorical_accuracy: 0.9631 - val_loss: 1.8778 - val_categorical_accuracy: 0.6275\n",
            "Epoch 17/30\n",
            "1600/1600 [==============================] - 34s 22ms/step - loss: 0.1043 - categorical_accuracy: 0.9544 - val_loss: 0.5897 - val_categorical_accuracy: 0.8825\n",
            "Epoch 18/30\n",
            "1600/1600 [==============================] - 34s 22ms/step - loss: 0.0688 - categorical_accuracy: 0.9750 - val_loss: 0.9571 - val_categorical_accuracy: 0.7700\n",
            "Epoch 19/30\n",
            "1600/1600 [==============================] - 34s 22ms/step - loss: 0.0643 - categorical_accuracy: 0.9806 - val_loss: 1.7862 - val_categorical_accuracy: 0.5600\n",
            "Epoch 20/30\n",
            " 400/1600 [======>.......................] - ETA: 23s - loss: 0.0661 - categorical_accuracy: 0.9725"
          ],
          "name": "stdout"
        },
        {
          "output_type": "stream",
          "text": [
            "1600/1600 [==============================] - 34s 22ms/step - loss: 0.0824 - categorical_accuracy: 0.9663 - val_loss: 0.6938 - val_categorical_accuracy: 0.8500\n",
            "Epoch 21/30\n",
            "1600/1600 [==============================] - 34s 22ms/step - loss: 0.0395 - categorical_accuracy: 0.9850 - val_loss: 2.4931 - val_categorical_accuracy: 0.6475\n",
            "Epoch 22/30\n",
            "1600/1600 [==============================] - 34s 22ms/step - loss: 0.0356 - categorical_accuracy: 0.9869 - val_loss: 0.9480 - val_categorical_accuracy: 0.8250\n",
            "Epoch 23/30\n",
            "1600/1600 [==============================] - 34s 22ms/step - loss: 0.0565 - categorical_accuracy: 0.9819 - val_loss: 0.7004 - val_categorical_accuracy: 0.8475\n",
            "Epoch 24/30\n",
            "1600/1600 [==============================] - 34s 22ms/step - loss: 0.0559 - categorical_accuracy: 0.9794 - val_loss: 0.7842 - val_categorical_accuracy: 0.7800\n",
            "Epoch 25/30\n",
            " 400/1600 [======>.......................] - ETA: 23s - loss: 0.0365 - categorical_accuracy: 0.9900"
          ],
          "name": "stdout"
        },
        {
          "output_type": "stream",
          "text": [
            "1600/1600 [==============================] - 34s 22ms/step - loss: 0.0390 - categorical_accuracy: 0.9863 - val_loss: 2.0739 - val_categorical_accuracy: 0.6725\n",
            "Epoch 26/30\n",
            "1600/1600 [==============================] - 34s 22ms/step - loss: 0.0371 - categorical_accuracy: 0.9869 - val_loss: 1.5350 - val_categorical_accuracy: 0.7150\n",
            "Epoch 27/30\n",
            "1600/1600 [==============================] - 34s 22ms/step - loss: 0.0380 - categorical_accuracy: 0.9881 - val_loss: 0.9079 - val_categorical_accuracy: 0.7800\n",
            "Epoch 28/30\n",
            "1600/1600 [==============================] - 34s 22ms/step - loss: 0.0252 - categorical_accuracy: 0.9919 - val_loss: 1.0488 - val_categorical_accuracy: 0.8200\n",
            "Epoch 29/30\n",
            "1600/1600 [==============================] - 34s 22ms/step - loss: 0.0424 - categorical_accuracy: 0.9869 - val_loss: 1.3173 - val_categorical_accuracy: 0.7600\n",
            "Epoch 30/30\n",
            " 400/1600 [======>.......................] - ETA: 23s - loss: 0.0210 - categorical_accuracy: 0.9925"
          ],
          "name": "stdout"
        },
        {
          "output_type": "stream",
          "text": [
            "1600/1600 [==============================] - 34s 22ms/step - loss: 0.0284 - categorical_accuracy: 0.9894 - val_loss: 1.0425 - val_categorical_accuracy: 0.7925\n"
          ],
          "name": "stdout"
        },
        {
          "output_type": "execute_result",
          "data": {
            "text/plain": [
              "<keras.callbacks.History at 0x7f22ecfafa90>"
            ]
          },
          "metadata": {
            "tags": []
          },
          "execution_count": 12
        }
      ]
    },
    {
      "metadata": {
        "id": "MNP2NNyMl3oH",
        "colab_type": "text"
      },
      "cell_type": "markdown",
      "source": [
        "#Measure accuracy recall and precission \n"
      ]
    },
    {
      "metadata": {
        "id": "QS-abDxa9nlh",
        "colab_type": "code",
        "colab": {
          "autoexec": {
            "startup": false,
            "wait_interval": 0
          },
          "base_uri": "https://localhost:8080/",
          "height": 153
        },
        "outputId": "228f808a-3df6-471d-a3f7-19d572f120a8",
        "executionInfo": {
          "status": "ok",
          "timestamp": 1525380448324,
          "user_tz": -300,
          "elapsed": 5801,
          "user": {
            "displayName": "Muhammad Naseer Subhani",
            "photoUrl": "https://lh3.googleusercontent.com/a/default-user=s128",
            "userId": "106670584265166839639"
          }
        }
      },
      "cell_type": "code",
      "source": [
        "\n",
        "from sklearn.metrics import classification_report\n",
        "pred = model1.predict(x_Test, batch_size=32, verbose=1)\n",
        "predicted = np.argmax(pred, axis=1)\n",
        "report = classification_report(np.argmax(y_Test, axis=1), predicted)\n",
        "print(report)"
      ],
      "execution_count": 0,
      "outputs": [
        {
          "output_type": "stream",
          "text": [
            "400/400 [==============================] - 5s 12ms/step\n",
            "             precision    recall  f1-score   support\n",
            "\n",
            "          0       0.81      0.79      0.80       211\n",
            "          1       0.77      0.80      0.78       189\n",
            "\n",
            "avg / total       0.79      0.79      0.79       400\n",
            "\n"
          ],
          "name": "stdout"
        }
      ]
    },
    {
      "metadata": {
        "id": "_a8o8RzAl_S5",
        "colab_type": "text"
      },
      "cell_type": "markdown",
      "source": [
        "#Predict "
      ]
    },
    {
      "metadata": {
        "id": "nm3kmPD_ykNR",
        "colab_type": "code",
        "colab": {
          "autoexec": {
            "startup": false,
            "wait_interval": 0
          },
          "base_uri": "https://localhost:8080/",
          "height": 51
        },
        "outputId": "1fdbf8d1-3c35-4db1-cb19-271728409d5e",
        "executionInfo": {
          "status": "ok",
          "timestamp": 1525381956825,
          "user_tz": -300,
          "elapsed": 988,
          "user": {
            "displayName": "Muhammad Naseer Subhani",
            "photoUrl": "https://lh3.googleusercontent.com/a/default-user=s128",
            "userId": "106670584265166839639"
          }
        }
      },
      "cell_type": "code",
      "source": [
        "pred = model1.predict(np.ones((1,300,300,3)), batch_size=1, verbose=1)\n",
        "predicted = np.argmax(pred, axis=1)\n",
        "print(pred)"
      ],
      "execution_count": 0,
      "outputs": [
        {
          "output_type": "stream",
          "text": [
            "\r1/1 [==============================] - 0s 26ms/step\n",
            "[[3.7231282e-14 1.0000000e+00]]\n"
          ],
          "name": "stdout"
        }
      ]
    },
    {
      "metadata": {
        "id": "1M7MotC1mB2s",
        "colab_type": "text"
      },
      "cell_type": "markdown",
      "source": [
        "#Export the model in Checkpoints and Protobuff file "
      ]
    },
    {
      "metadata": {
        "id": "WKvBLw4I-UnC",
        "colab_type": "code",
        "colab": {
          "autoexec": {
            "startup": false,
            "wait_interval": 0
          }
        }
      },
      "cell_type": "code",
      "source": [
        "                     ######Export Model#####################    \n",
        "\n",
        "\n",
        "MODEL_NAME = \"f_model\"\n",
        "\n",
        "  \n",
        "def export_model(saver, model, input_node_names, output_node_name):\n",
        "    tf.train.write_graph(K.get_session().graph_def, 'out', \\\n",
        "        MODEL_NAME + '_graph.pbtxt')\n",
        "\n",
        "    \n",
        "    saver.save(K.get_session(), 'out/' + MODEL_NAME + '.ckpt')\n",
        "    \n",
        "#     K.set_learning_phase(0)\n",
        "\n",
        "    freeze_graph.freeze_graph('out/' + MODEL_NAME + '_graph.pbtxt', None, \\\n",
        "        False, 'out/' + MODEL_NAME + '.ckpt', output_node_name, \\\n",
        "        \"save/restore_all\", \"save/Const:0\", \\\n",
        "        'out/frozen_' + MODEL_NAME + '.pb', True, \"\")\n",
        "\n",
        "    input_graph_def = tf.GraphDef()\n",
        "    with tf.gfile.Open('out/frozen_' + MODEL_NAME + '.pb', \"rb\") as f:\n",
        "        input_graph_def.ParseFromString(f.read())\n",
        "\n",
        "    output_graph_def = optimize_for_inference_lib.optimize_for_inference(\n",
        "            input_graph_def, input_node_names, [output_node_name],\n",
        "            tf.float32.as_datatype_enum)\n",
        "\n",
        "    with tf.gfile.FastGFile('out/opt_' + MODEL_NAME + '.pb', \"wb\") as f:\n",
        "        f.write(output_graph_def.SerializeToString())\n",
        "\n",
        "    print(\"graph saved!\")\n",
        "\n"
      ],
      "execution_count": 0,
      "outputs": []
    },
    {
      "metadata": {
        "id": "UgQ3uOZdVV5m",
        "colab_type": "code",
        "colab": {
          "autoexec": {
            "startup": false,
            "wait_interval": 0
          },
          "base_uri": "https://localhost:8080/",
          "height": 204
        },
        "outputId": "4b1eb585-4a5a-4fdd-8644-ffdb980cfbab",
        "executionInfo": {
          "status": "ok",
          "timestamp": 1525380486082,
          "user_tz": -300,
          "elapsed": 6805,
          "user": {
            "displayName": "Muhammad Naseer Subhani",
            "photoUrl": "https://lh3.googleusercontent.com/a/default-user=s128",
            "userId": "106670584265166839639"
          }
        }
      },
      "cell_type": "code",
      "source": [
        "export_model(tf.train.Saver(), model1, [\"conv2d_1_input\"], \"dense_4/Softmax\")"
      ],
      "execution_count": 0,
      "outputs": [
        {
          "output_type": "stream",
          "text": [
            "INFO:tensorflow:Restoring parameters from out/f_model.ckpt\n",
            "INFO:tensorflow:Froze 50 variables.\n",
            "Converted 50 variables to const ops.\n",
            "WARNING:tensorflow:Didn't find expected Conv2D input to 'batch_normalization_1/FusedBatchNorm'\n",
            "WARNING:tensorflow:Didn't find expected Conv2D input to 'batch_normalization_2/FusedBatchNorm'\n",
            "WARNING:tensorflow:Didn't find expected Conv2D input to 'batch_normalization_3/FusedBatchNorm'\n",
            "WARNING:tensorflow:Didn't find expected Conv2D input to 'batch_normalization_4/FusedBatchNorm'\n",
            "WARNING:tensorflow:Didn't find expected Conv2D input to 'batch_normalization_5/FusedBatchNorm'\n",
            "WARNING:tensorflow:Didn't find expected Conv2D input to 'batch_normalization_6/FusedBatchNorm'\n",
            "WARNING:tensorflow:Didn't find expected Conv2D input to 'batch_normalization_7/FusedBatchNorm'\n",
            "graph saved!\n"
          ],
          "name": "stdout"
        }
      ]
    }
  ]
}